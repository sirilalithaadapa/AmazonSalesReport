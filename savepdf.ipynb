{
  "nbformat": 4,
  "nbformat_minor": 0,
  "metadata": {
    "colab": {
      "provenance": []
    },
    "kernelspec": {
      "name": "python3",
      "display_name": "Python 3"
    },
    "language_info": {
      "name": "python"
    }
  },
  "cells": [
    {
      "cell_type": "code",
      "execution_count": null,
      "metadata": {
        "colab": {
          "base_uri": "https://localhost:8080/"
        },
        "id": "yz447HMaGcgx",
        "outputId": "bc1d71c3-07ee-476e-ec0a-38266fa29019"
      },
      "outputs": [
        {
          "output_type": "stream",
          "name": "stdout",
          "text": [
            "                              Region  Total Sales\n",
            "0                               Asia  21347091.02\n",
            "1              Australia and Oceania  14094265.13\n",
            "2  Central America and the Caribbean   9170385.49\n",
            "3                             Europe  33368932.11\n",
            "4       Middle East and North Africa  14052706.58\n",
            "5                      North America   5643356.55\n",
            "6                 Sub-Saharan Africa  39672031.43\n"
          ]
        }
      ],
      "source": [
        "import pandas as pd\n",
        "\n",
        "# Load the dataset\n",
        "file_path = '/content/AmazonSalesData.csv'\n",
        "amazon_sales_data = pd.read_csv(file_path)\n",
        "\n",
        "# Summarize total sales by region\n",
        "total_sales_by_region = amazon_sales_data.groupby('Region')['Total Revenue'].sum().reset_index()\n",
        "total_sales_by_region.columns = ['Region', 'Total Sales']\n",
        "\n",
        "print(total_sales_by_region)\n"
      ]
    },
    {
      "cell_type": "code",
      "source": [
        "!pip install reportlab\n"
      ],
      "metadata": {
        "colab": {
          "base_uri": "https://localhost:8080/"
        },
        "id": "xgrQd4Z6HGxI",
        "outputId": "541bf8d3-d6fb-4bc6-b795-f9d11d55fc42"
      },
      "execution_count": null,
      "outputs": [
        {
          "output_type": "stream",
          "name": "stdout",
          "text": [
            "Collecting reportlab\n",
            "  Downloading reportlab-4.2.2-py3-none-any.whl (1.9 MB)\n",
            "\u001b[2K     \u001b[90m━━━━━━━━━━━━━━━━━━━━━━━━━━━━━━━━━━━━━━━━\u001b[0m \u001b[32m1.9/1.9 MB\u001b[0m \u001b[31m8.7 MB/s\u001b[0m eta \u001b[36m0:00:00\u001b[0m\n",
            "\u001b[?25hRequirement already satisfied: pillow>=9.0.0 in /usr/local/lib/python3.10/dist-packages (from reportlab) (9.4.0)\n",
            "Requirement already satisfied: chardet in /usr/local/lib/python3.10/dist-packages (from reportlab) (5.2.0)\n",
            "Installing collected packages: reportlab\n",
            "Successfully installed reportlab-4.2.2\n"
          ]
        }
      ]
    },
    {
      "cell_type": "code",
      "source": [
        "from reportlab.lib.pagesizes import letter\n",
        "from reportlab.pdfgen import canvas\n",
        "\n",
        "# Create a PDF report\n",
        "def create_pdf(data, filename):\n",
        "    c = canvas.Canvas(filename, pagesize=letter)\n",
        "    width, height = letter\n",
        "    c.drawString(30, height - 30, \"Total Sales by Region Report\")\n",
        "\n",
        "    # Add table headers\n",
        "    c.drawString(30, height - 60, \"Region\")\n",
        "    c.drawString(200, height - 60, \"Total Sales\")\n",
        "\n",
        "    y = height - 80\n",
        "    for index, row in data.iterrows():\n",
        "        c.drawString(30, y, row['Region'])\n",
        "        c.drawString(200, y, str(row['Total Sales']))\n",
        "        y -= 20\n",
        "\n",
        "    c.save()\n",
        "\n",
        "# Create the PDF file\n",
        "create_pdf(total_sales_by_region, \"Total_Sales_by_Region_Report.pdf\")\n"
      ],
      "metadata": {
        "id": "7qYMYCs4GhCa"
      },
      "execution_count": null,
      "outputs": []
    },
    {
      "cell_type": "code",
      "source": [
        "from google.colab import files\n",
        "\n",
        "files.download(\"Total_Sales_by_Region_Report.pdf\")\n"
      ],
      "metadata": {
        "colab": {
          "base_uri": "https://localhost:8080/",
          "height": 17
        },
        "id": "ZSYkcsIiGja0",
        "outputId": "59b58a20-7891-4eff-d5be-58927a77601e"
      },
      "execution_count": null,
      "outputs": [
        {
          "output_type": "display_data",
          "data": {
            "text/plain": [
              "<IPython.core.display.Javascript object>"
            ],
            "application/javascript": [
              "\n",
              "    async function download(id, filename, size) {\n",
              "      if (!google.colab.kernel.accessAllowed) {\n",
              "        return;\n",
              "      }\n",
              "      const div = document.createElement('div');\n",
              "      const label = document.createElement('label');\n",
              "      label.textContent = `Downloading \"${filename}\": `;\n",
              "      div.appendChild(label);\n",
              "      const progress = document.createElement('progress');\n",
              "      progress.max = size;\n",
              "      div.appendChild(progress);\n",
              "      document.body.appendChild(div);\n",
              "\n",
              "      const buffers = [];\n",
              "      let downloaded = 0;\n",
              "\n",
              "      const channel = await google.colab.kernel.comms.open(id);\n",
              "      // Send a message to notify the kernel that we're ready.\n",
              "      channel.send({})\n",
              "\n",
              "      for await (const message of channel.messages) {\n",
              "        // Send a message to notify the kernel that we're ready.\n",
              "        channel.send({})\n",
              "        if (message.buffers) {\n",
              "          for (const buffer of message.buffers) {\n",
              "            buffers.push(buffer);\n",
              "            downloaded += buffer.byteLength;\n",
              "            progress.value = downloaded;\n",
              "          }\n",
              "        }\n",
              "      }\n",
              "      const blob = new Blob(buffers, {type: 'application/binary'});\n",
              "      const a = document.createElement('a');\n",
              "      a.href = window.URL.createObjectURL(blob);\n",
              "      a.download = filename;\n",
              "      div.appendChild(a);\n",
              "      a.click();\n",
              "      div.remove();\n",
              "    }\n",
              "  "
            ]
          },
          "metadata": {}
        },
        {
          "output_type": "display_data",
          "data": {
            "text/plain": [
              "<IPython.core.display.Javascript object>"
            ],
            "application/javascript": [
              "download(\"download_cd5c7eac-81b6-459f-a69f-4237278dee67\", \"Total_Sales_by_Region_Report.pdf\", 1682)"
            ]
          },
          "metadata": {}
        }
      ]
    }
  ]
}